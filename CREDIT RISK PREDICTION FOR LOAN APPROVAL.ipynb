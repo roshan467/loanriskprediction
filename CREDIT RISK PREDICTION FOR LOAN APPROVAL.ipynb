{
 "cells": [
  {
   "cell_type": "code",
   "execution_count": 5,
   "id": "330c7f7b-41b6-47a6-914c-bdc8d80d3580",
   "metadata": {},
   "outputs": [
    {
     "name": "stdout",
     "output_type": "stream",
     "text": [
      "   person_age  person_income person_home_ownership  person_emp_length  \\\n",
      "0          22          59000                  RENT              123.0   \n",
      "1          21           9600                   OWN                5.0   \n",
      "2          25           9600              MORTGAGE                1.0   \n",
      "3          23          65500                  RENT                4.0   \n",
      "4          24          54400                  RENT                8.0   \n",
      "\n",
      "  loan_intent loan_grade  loan_amnt  loan_int_rate  loan_status  \\\n",
      "0    PERSONAL          D      35000          16.02            1   \n",
      "1   EDUCATION          B       1000          11.14            0   \n",
      "2     MEDICAL          C       5500          12.87            1   \n",
      "3     MEDICAL          C      35000          15.23            1   \n",
      "4     MEDICAL          C      35000          14.27            1   \n",
      "\n",
      "   loan_percent_income cb_person_default_on_file  cb_person_cred_hist_length  \n",
      "0                 0.59                         Y                           3  \n",
      "1                 0.10                         N                           2  \n",
      "2                 0.57                         N                           3  \n",
      "3                 0.53                         N                           2  \n",
      "4                 0.55                         Y                           4  \n",
      "person_age                       0\n",
      "person_income                    0\n",
      "person_home_ownership            0\n",
      "person_emp_length              895\n",
      "loan_intent                      0\n",
      "loan_grade                       0\n",
      "loan_amnt                        0\n",
      "loan_int_rate                 3116\n",
      "loan_status                      0\n",
      "loan_percent_income              0\n",
      "cb_person_default_on_file        0\n",
      "cb_person_cred_hist_length       0\n",
      "dtype: int64\n",
      "<class 'pandas.core.frame.DataFrame'>\n",
      "RangeIndex: 32581 entries, 0 to 32580\n",
      "Data columns (total 12 columns):\n",
      " #   Column                      Non-Null Count  Dtype  \n",
      "---  ------                      --------------  -----  \n",
      " 0   person_age                  32581 non-null  int64  \n",
      " 1   person_income               32581 non-null  int64  \n",
      " 2   person_home_ownership       32581 non-null  object \n",
      " 3   person_emp_length           31686 non-null  float64\n",
      " 4   loan_intent                 32581 non-null  object \n",
      " 5   loan_grade                  32581 non-null  object \n",
      " 6   loan_amnt                   32581 non-null  int64  \n",
      " 7   loan_int_rate               29465 non-null  float64\n",
      " 8   loan_status                 32581 non-null  int64  \n",
      " 9   loan_percent_income         32581 non-null  float64\n",
      " 10  cb_person_default_on_file   32581 non-null  object \n",
      " 11  cb_person_cred_hist_length  32581 non-null  int64  \n",
      "dtypes: float64(3), int64(5), object(4)\n",
      "memory usage: 3.0+ MB\n",
      "None\n"
     ]
    }
   ],
   "source": [
    "import pandas as pd\n",
    "\n",
    "# Load dataset\n",
    "df = pd.read_csv(r\"C:\\Users\\Roshan\\OneDrive\\Desktop\\credit_risk_project\\dataset\\credit_risk_dataset.csv\")\n",
    "\n",
    "# Show first 5 rows\n",
    "print(df.head())\n",
    "\n",
    "# Check for missing values\n",
    "print(df.isnull().sum())\n",
    "\n",
    "# Dataset info\n",
    "print(df.info())\n"
   ]
  },
  {
   "cell_type": "code",
   "execution_count": 36,
   "id": "8ef9562d-52ae-4aef-b6b4-d77680d655ff",
   "metadata": {},
   "outputs": [],
   "source": [
    "df.dropna(inplace=True)"
   ]
  },
  {
   "cell_type": "code",
   "execution_count": 38,
   "id": "ddb70804-631d-4a36-9c88-9f8a8fcfb507",
   "metadata": {},
   "outputs": [
    {
     "name": "stdout",
     "output_type": "stream",
     "text": [
      "['PERSON_AGE', 'PERSON_INCOME', 'PERSON_HOME_OWNERSHIP', 'PERSON_EMP_LENGTH', 'LOAN_INTENT', 'LOAN_GRADE', 'LOAN_AMNT', 'LOAN_INT_RATE', 'LOAN_STATUS', 'LOAN_PERCENT_INCOME', 'CB_PERSON_DEFAULT_ON_FILE', 'CB_PERSON_CRED_HIST_LENGTH']\n"
     ]
    }
   ],
   "source": [
    "print(df.columns.tolist())"
   ]
  },
  {
   "cell_type": "code",
   "execution_count": 42,
   "id": "17eddad3-c2d7-45c9-aa32-244fc2c1cd67",
   "metadata": {},
   "outputs": [],
   "source": [
    "df.fillna({'PERSON_EMP_LENGTH': -1}, inplace=True)"
   ]
  },
  {
   "cell_type": "code",
   "execution_count": 43,
   "id": "38621b0c-5fe5-4d1b-a7ad-7ddcadc4cdbb",
   "metadata": {},
   "outputs": [],
   "source": [
    "df.fillna({'LOAN_INT_RATE': -1}, inplace=True)"
   ]
  },
  {
   "cell_type": "code",
   "execution_count": 44,
   "id": "2ce0dae9-c4db-4377-a793-15afbc24c971",
   "metadata": {},
   "outputs": [
    {
     "name": "stdout",
     "output_type": "stream",
     "text": [
      "Rows before: 28638\n",
      "Missing loan interest rate: 0\n"
     ]
    }
   ],
   "source": [
    "print(f\"Rows before: {len(df)}\")\n",
    "print(f\"Missing loan interest rate: {df['LOAN_INT_RATE'].isnull().sum()}\")"
   ]
  },
  {
   "cell_type": "code",
   "execution_count": 45,
   "id": "5f3f5ecb-a160-495e-8584-c75cffd07bfc",
   "metadata": {},
   "outputs": [
    {
     "name": "stdout",
     "output_type": "stream",
     "text": [
      "PERSON_AGE                    0\n",
      "PERSON_INCOME                 0\n",
      "PERSON_HOME_OWNERSHIP         0\n",
      "PERSON_EMP_LENGTH             0\n",
      "LOAN_INTENT                   0\n",
      "LOAN_GRADE                    0\n",
      "LOAN_AMNT                     0\n",
      "LOAN_INT_RATE                 0\n",
      "LOAN_STATUS                   0\n",
      "LOAN_PERCENT_INCOME           0\n",
      "CB_PERSON_DEFAULT_ON_FILE     0\n",
      "CB_PERSON_CRED_HIST_LENGTH    0\n",
      "dtype: int64\n"
     ]
    }
   ],
   "source": [
    "# Check for missing values\n",
    "print(df.isnull().sum())"
   ]
  },
  {
   "cell_type": "code",
   "execution_count": 46,
   "id": "25febfca-724f-4516-b528-65ee99f2527e",
   "metadata": {},
   "outputs": [
    {
     "name": "stdout",
     "output_type": "stream",
     "text": [
      "<class 'pandas.core.frame.DataFrame'>\n",
      "Index: 28638 entries, 0 to 32580\n",
      "Data columns (total 12 columns):\n",
      " #   Column                      Non-Null Count  Dtype  \n",
      "---  ------                      --------------  -----  \n",
      " 0   PERSON_AGE                  28638 non-null  int64  \n",
      " 1   PERSON_INCOME               28638 non-null  int64  \n",
      " 2   PERSON_HOME_OWNERSHIP       28638 non-null  object \n",
      " 3   PERSON_EMP_LENGTH           28638 non-null  float64\n",
      " 4   LOAN_INTENT                 28638 non-null  object \n",
      " 5   LOAN_GRADE                  28638 non-null  object \n",
      " 6   LOAN_AMNT                   28638 non-null  int64  \n",
      " 7   LOAN_INT_RATE               28638 non-null  float64\n",
      " 8   LOAN_STATUS                 28638 non-null  int64  \n",
      " 9   LOAN_PERCENT_INCOME         28638 non-null  float64\n",
      " 10  CB_PERSON_DEFAULT_ON_FILE   28638 non-null  object \n",
      " 11  CB_PERSON_CRED_HIST_LENGTH  28638 non-null  int64  \n",
      "dtypes: float64(3), int64(5), object(4)\n",
      "memory usage: 2.8+ MB\n",
      "None\n"
     ]
    }
   ],
   "source": [
    "\n",
    "# Dataset info\n",
    "print(df.info())"
   ]
  },
  {
   "cell_type": "code",
   "execution_count": null,
   "id": "e6048ea9-a6ec-4a19-a83c-7d389b5f4f26",
   "metadata": {},
   "outputs": [],
   "source": [
    "df.columns = [col.upper() for col in df.columns]"
   ]
  },
  {
   "cell_type": "code",
   "execution_count": 6,
   "id": "44400924-b779-4544-90f2-27427dbc1e29",
   "metadata": {},
   "outputs": [
    {
     "name": "stdout",
     "output_type": "stream",
     "text": [
      "Categorical columns: ['person_home_ownership', 'loan_intent', 'loan_grade', 'cb_person_default_on_file']\n"
     ]
    }
   ],
   "source": [
    "from sklearn.preprocessing import LabelEncoder\n",
    "from sklearn.model_selection import train_test_split\n",
    "\n",
    "# Identify categorical columns (excluding target)\n",
    "categorical_cols = df.select_dtypes(include='object').columns.tolist()\n",
    "print(\"Categorical columns:\", categorical_cols)\n",
    "\n",
    "# Encode categorical columns\n",
    "le = LabelEncoder()\n",
    "for col in categorical_cols:\n",
    "    df[col] = le.fit_transform(df[col])\n",
    "\n",
    "# Separate features and target\n",
    "# Assuming last column is target (Loan_Status)\n",
    "X = df.iloc[:, :-1]\n",
    "y = df.iloc[:, -1]\n",
    "\n",
    "# Split dataset\n",
    "X_train, X_test, y_train, y_test = train_test_split(X, y, test_size=0.2, random_state=42)\n"
   ]
  },
  {
   "cell_type": "code",
   "execution_count": 7,
   "id": "c9905811-6afb-417b-844e-58e2abad092b",
   "metadata": {},
   "outputs": [
    {
     "name": "stdout",
     "output_type": "stream",
     "text": [
      "Accuracy: 0.2522633113395734\n",
      "              precision    recall  f1-score   support\n",
      "\n",
      "           2       0.32      0.33      0.33      1200\n",
      "           3       0.33      0.33      0.33      1222\n",
      "           4       0.32      0.31      0.31      1194\n",
      "           5       0.20      0.19      0.19       390\n",
      "           6       0.16      0.16      0.16       372\n",
      "           7       0.15      0.17      0.16       378\n",
      "           8       0.17      0.21      0.18       335\n",
      "           9       0.18      0.16      0.17       378\n",
      "          10       0.18      0.16      0.17       371\n",
      "          11       0.13      0.15      0.14        92\n",
      "          12       0.15      0.19      0.17        91\n",
      "          13       0.10      0.14      0.12        77\n",
      "          14       0.21      0.26      0.23        91\n",
      "          15       0.14      0.12      0.13        85\n",
      "          16       0.18      0.13      0.15       100\n",
      "          17       0.12      0.07      0.09        89\n",
      "          18       0.25      0.33      0.29         3\n",
      "          19       0.00      0.00      0.00         3\n",
      "          20       0.00      0.00      0.00         6\n",
      "          21       0.00      0.00      0.00         3\n",
      "          22       0.00      0.00      0.00         4\n",
      "          23       0.00      0.00      0.00         2\n",
      "          24       0.00      0.00      0.00         4\n",
      "          25       0.00      0.00      0.00         3\n",
      "          26       0.00      0.00      0.00         3\n",
      "          27       0.00      0.00      0.00         6\n",
      "          28       0.00      0.00      0.00         7\n",
      "          29       0.00      0.00      0.00         4\n",
      "          30       0.00      0.00      0.00         4\n",
      "\n",
      "    accuracy                           0.25      6517\n",
      "   macro avg       0.11      0.12      0.11      6517\n",
      "weighted avg       0.25      0.25      0.25      6517\n",
      "\n"
     ]
    },
    {
     "name": "stderr",
     "output_type": "stream",
     "text": [
      "C:\\Users\\Roshan\\anaconda3\\Lib\\site-packages\\sklearn\\metrics\\_classification.py:1531: UndefinedMetricWarning: Precision is ill-defined and being set to 0.0 in labels with no predicted samples. Use `zero_division` parameter to control this behavior.\n",
      "  _warn_prf(average, modifier, f\"{metric.capitalize()} is\", len(result))\n",
      "C:\\Users\\Roshan\\anaconda3\\Lib\\site-packages\\sklearn\\metrics\\_classification.py:1531: UndefinedMetricWarning: Precision is ill-defined and being set to 0.0 in labels with no predicted samples. Use `zero_division` parameter to control this behavior.\n",
      "  _warn_prf(average, modifier, f\"{metric.capitalize()} is\", len(result))\n",
      "C:\\Users\\Roshan\\anaconda3\\Lib\\site-packages\\sklearn\\metrics\\_classification.py:1531: UndefinedMetricWarning: Precision is ill-defined and being set to 0.0 in labels with no predicted samples. Use `zero_division` parameter to control this behavior.\n",
      "  _warn_prf(average, modifier, f\"{metric.capitalize()} is\", len(result))\n"
     ]
    },
    {
     "name": "stdout",
     "output_type": "stream",
     "text": [
      "Model saved successfully!\n"
     ]
    }
   ],
   "source": [
    "from sklearn.ensemble import RandomForestClassifier\n",
    "from sklearn.metrics import accuracy_score, classification_report\n",
    "import joblib\n",
    "\n",
    "# Train model\n",
    "model = RandomForestClassifier(n_estimators=100, random_state=42)\n",
    "model.fit(X_train, y_train)\n",
    "\n",
    "# Predict on test\n",
    "y_pred = model.predict(X_test)\n",
    "\n",
    "# Evaluate\n",
    "print(\"Accuracy:\", accuracy_score(y_test, y_pred))\n",
    "print(classification_report(y_test, y_pred))\n",
    "\n",
    "# Save trained model\n",
    "joblib.dump(model, 'credit_risk_model.pkl')\n",
    "print(\"Model saved successfully!\")\n"
   ]
  },
  {
   "cell_type": "code",
   "execution_count": null,
   "id": "48b71e33-d3ee-436c-b761-31f709870cea",
   "metadata": {},
   "outputs": [],
   "source": []
  },
  {
   "cell_type": "code",
   "execution_count": 24,
   "id": "41423bb5-2b80-44ea-a095-b8dc1c86ebb6",
   "metadata": {},
   "outputs": [
    {
     "name": "stdout",
     "output_type": "stream",
     "text": [
      "Model trained and saved successfully!\n"
     ]
    }
   ],
   "source": [
    "import pandas as pd\n",
    "from sklearn.preprocessing import LabelEncoder\n",
    "from sklearn.ensemble import RandomForestClassifier\n",
    "import joblib\n",
    "\n",
    "# Load dataset\n",
    "df = pd.read_csv(r\"C:\\Users\\Roshan\\OneDrive\\Desktop\\credit_risk_project\\dataset\\credit_risk_dataset.csv\")\n",
    "\n",
    "# Features and target\n",
    "X = df.drop('loan_status', axis=1)\n",
    "y = df['loan_status']\n",
    "\n",
    "# Encode categorical columns\n",
    "categorical_cols = X.select_dtypes(include='object').columns\n",
    "for col in categorical_cols:\n",
    "    le = LabelEncoder()\n",
    "    X[col] = le.fit_transform(X[col])\n",
    "\n",
    "# Encode target if necessary\n",
    "y = LabelEncoder().fit_transform(y)\n",
    "\n",
    "# Train model\n",
    "model = RandomForestClassifier(n_estimators=100, random_state=42)\n",
    "model.fit(X, y)\n",
    "\n",
    "# Save model\n",
    "joblib.dump(model, r\"C:\\Users\\Roshan\\OneDrive\\Desktop\\credit_risk_project\\credit_risk_model.pkl\")\n",
    "print(\"Model trained and saved successfully!\")"
   ]
  },
  {
   "cell_type": "code",
   "execution_count": 27,
   "id": "9fd4e85c-eb7e-49b3-b34a-09cc0c6911ee",
   "metadata": {},
   "outputs": [],
   "source": [
    "import streamlit as st\n",
    "import pandas as pd\n",
    "import joblib\n",
    "from sklearn.preprocessing import LabelEncoder\n",
    "from sklearn.ensemble import RandomForestClassifier\n",
    "import os\n",
    "\n",
    "# -----------------------------\n",
    "# Step 1: Paths\n",
    "# -----------------------------\n",
    "DATA_PATH = r\"C:\\Users\\Roshan\\OneDrive\\Desktop\\credit_risk_project\\dataset\\credit_risk_dataset.csv\"\n",
    "MODEL_PATH = r\"C:\\Users\\Roshan\\OneDrive\\Desktop\\credit_risk_project\\credit_risk_model.pkl\"\n",
    "\n",
    "# -----------------------------\n",
    "# Step 2: Load dataset\n",
    "# -----------------------------\n",
    "df = pd.read_csv(DATA_PATH)\n",
    "\n",
    "# -----------------------------\n",
    "# Step 3: Train model if not exists\n",
    "# -----------------------------\n",
    "if not os.path.exists(MODEL_PATH):\n",
    "    st.warning(\"Model not found. Training model now...\")\n",
    "    \n",
    "    X = df.drop('loan_status', axis=1)\n",
    "    y = df['loan_status']\n",
    "    \n",
    "    # Encode categorical columns\n",
    "    categorical_cols = X.select_dtypes(include='object').columns\n",
    "    for col in categorical_cols:\n",
    "        le = LabelEncoder()\n",
    "        X[col] = le.fit_transform(X[col])\n",
    "    \n",
    "    y = LabelEncoder().fit_transform(y)\n",
    "    \n",
    "    # Train RandomForest model\n",
    "    model = RandomForestClassifier(n_estimators=100, random_state=42)\n",
    "    model.fit(X, y)\n",
    "    \n",
    "    # Save model\n",
    "    joblib.dump(model, MODEL_PATH)\n",
    "    st.success(\"Model trained and saved successfully!\")\n",
    "else:\n",
    "    model = joblib.load(MODEL_PATH)\n",
    "\n",
    "# -----------------------------\n",
    "# Step 4: App title\n",
    "# -----------------------------\n",
    "st.title(\"Credit Risk Prediction for Loan Approval\")\n",
    "\n",
    "# -----------------------------\n",
    "# Step 5: Prepare input widgets\n",
    "# -----------------------------\n",
    "X = df.drop('loan_status', axis=1)  # features\n",
    "\n",
    "inputs = {}\n",
    "for col in X.columns:\n",
    "    if df[col].dtype == 'object' or df[col].nunique() <= 10:  # categorical\n",
    "        options = df[col].unique().tolist()\n",
    "        inputs[col] = st.selectbox(col, options)\n",
    "    else:  # numerical\n",
    "        min_val = int(df[col].min())\n",
    "        max_val = int(df[col].max())\n",
    "        inputs[col] = st.number_input(col, min_value=min_val, max_value=max_val, value=min_val)\n",
    "\n",
    "# Convert to DataFrame\n",
    "input_df = pd.DataFrame([inputs])\n",
    "\n",
    "# Encode categorical columns on the fly\n",
    "categorical_cols = X.select_dtypes(include='object').columns\n",
    "for col in categorical_cols:\n",
    "    le = LabelEncoder()\n",
    "    le.fit(df[col])\n",
    "    input_df[col] = le.transform(input_df[col])\n",
    "\n",
    "# -----------------------------\n",
    "# Step 6: Predict button\n",
    "# -----------------------------\n",
    "if st.button(\"Predict\"):\n",
    "    prediction = model.predict(input_df)[0]\n",
    "    result = \"Approved\" if prediction == 1 else \"Rejected\"\n",
    "    st.success(f\"Loan Status: {result}\")"
   ]
  },
  {
   "cell_type": "code",
   "execution_count": null,
   "id": "85f3d5d9-5de6-4836-abe9-6609d57c3c93",
   "metadata": {},
   "outputs": [],
   "source": []
  },
  {
   "cell_type": "code",
   "execution_count": 54,
   "id": "a7145215-2a52-4d98-ac6c-73dcc02dbd7b",
   "metadata": {},
   "outputs": [
    {
     "name": "stdout",
     "output_type": "stream",
     "text": [
      "* Running on local URL:  http://127.0.0.1:7863\n",
      "* To create a public link, set `share=True` in `launch()`.\n"
     ]
    },
    {
     "data": {
      "text/html": [
       "<div><iframe src=\"http://127.0.0.1:7863/\" width=\"100%\" height=\"500\" allow=\"autoplay; camera; microphone; clipboard-read; clipboard-write;\" frameborder=\"0\" allowfullscreen></iframe></div>"
      ],
      "text/plain": [
       "<IPython.core.display.HTML object>"
      ]
     },
     "metadata": {},
     "output_type": "display_data"
    },
    {
     "data": {
      "text/plain": []
     },
     "execution_count": 54,
     "metadata": {},
     "output_type": "execute_result"
    }
   ],
   "source": [
    "import gradio as gr\n",
    "\n",
    "with gr.Blocks() as demo:\n",
    "    gr.Dropdown([\"OWN\", \"RENT\"], label=\"Person Home Ownership\")\n",
    "    gr.Number(label=\"Person Emp Length\", value=1)\n",
    "    gr.Dropdown([\"PERSONAL\", \"EDUCATION\"], label=\"Loan Intent\")\n",
    "    gr.Dropdown([\"A\", \"B\", \"C\"], label=\"Loan Grade\")\n",
    "    gr.Number(label=\"Loan Amnt\", value=20000)\n",
    "    gr.Number(label=\"Loan Int Rate\", value=5)\n",
    "    gr.Number(label=\"Loan Percent Income\", value=0)\n",
    "    gr.Dropdown([\"Y\", \"N\"], label=\"CB Person Default File\")\n",
    "    gr.Number(label=\"CB Person Cred_Hist Length\", value=1, minimum=2)\n",
    "    gr.Button(\"Predict\")\n",
    "\n",
    "demo.launch()\n"
   ]
  },
  {
   "cell_type": "code",
   "execution_count": 55,
   "id": "99b1d0e3-e574-4990-bb82-69b30640c5b6",
   "metadata": {},
   "outputs": [
    {
     "data": {
      "text/plain": [
       "DeltaGenerator()"
      ]
     },
     "execution_count": 55,
     "metadata": {},
     "output_type": "execute_result"
    }
   ],
   "source": [
    "import streamlit as st\n",
    "import pandas as pd\n",
    "import matplotlib.pyplot as plt\n",
    "import seaborn as sns\n",
    "\n",
    "# Load your cleaned dataset (replace with your actual data source)\n",
    "# For demo, let's create dummy data (replace with your df)\n",
    "# df = pd.read_csv('your_data.csv')\n",
    "\n",
    "# Example dummy data (remove this in your real code)\n",
    "df = pd.DataFrame({\n",
    "    'LOAN_AMNT': [10000, 20000, 15000, 30000, 25000],\n",
    "    'LOAN_INT_RATE': [5.0, 7.2, 6.5, 8.1, 7.0],\n",
    "    'LOAN_GRADE': ['A', 'B', 'A', 'C', 'B'],\n",
    "    'LOAN_STATUS': ['Fully Paid', 'Charged Off', 'Fully Paid', 'Charged Off', 'Fully Paid'],\n",
    "    'LOAN_INTENT': ['PERSONAL', 'EDUCATION', 'PERSONAL', 'MEDICAL', 'PERSONAL']\n",
    "})\n",
    "\n",
    "st.title(\"Loan Dataset Exploratory Data Analysis\")\n",
    "\n",
    "st.header(\"Distribution of Loan Amount\")\n",
    "fig1, ax1 = plt.subplots()\n",
    "sns.histplot(df['LOAN_AMNT'], bins=20, ax=ax1)\n",
    "st.pyplot(fig1)\n",
    "\n",
    "st.header(\"Loan Interest Rate by Loan Grade\")\n",
    "fig2, ax2 = plt.subplots()\n",
    "sns.boxplot(x='LOAN_GRADE', y='LOAN_INT_RATE', data=df, ax=ax2)\n",
    "st.pyplot(fig2)\n",
    "\n",
    "st.header(\"Loan Status by Loan Intent\")\n",
    "fig3, ax3 = plt.subplots()\n",
    "sns.countplot(x='LOAN_STATUS', hue='LOAN_INTENT', data=df, ax=ax3)\n",
    "st.pyplot(fig3)\n"
   ]
  },
  {
   "cell_type": "code",
   "execution_count": 56,
   "id": "4e5c01bb-6077-4502-b65a-2acfa424820e",
   "metadata": {},
   "outputs": [
    {
     "name": "stdout",
     "output_type": "stream",
     "text": [
      "Rerunning server... use `close()` to stop if you need to change `launch()` parameters.\n",
      "----\n",
      "* To create a public link, set `share=True` in `launch()`.\n"
     ]
    },
    {
     "data": {
      "text/html": [
       "<div><iframe src=\"http://127.0.0.1:7863/\" width=\"100%\" height=\"500\" allow=\"autoplay; camera; microphone; clipboard-read; clipboard-write;\" frameborder=\"0\" allowfullscreen></iframe></div>"
      ],
      "text/plain": [
       "<IPython.core.display.HTML object>"
      ]
     },
     "metadata": {},
     "output_type": "display_data"
    },
    {
     "data": {
      "text/plain": []
     },
     "execution_count": 56,
     "metadata": {},
     "output_type": "execute_result"
    }
   ],
   "source": [
    "demo.launch(show_api=False)\n"
   ]
  },
  {
   "cell_type": "code",
   "execution_count": 63,
   "id": "8804eb39-87e6-4036-a9b7-3992b23d2eac",
   "metadata": {},
   "outputs": [],
   "source": [
    "df = pd.read_csv(r\"C:\\Users\\Roshan\\OneDrive\\Desktop\\credit_risk_project\\dataset\\credit_risk_dataset.csv\")"
   ]
  },
  {
   "cell_type": "code",
   "execution_count": null,
   "id": "e32991c1-c40d-47d5-8460-8551f741d4ae",
   "metadata": {},
   "outputs": [],
   "source": []
  }
 ],
 "metadata": {
  "kernelspec": {
   "display_name": "Python [conda env:base] *",
   "language": "python",
   "name": "conda-base-py"
  },
  "language_info": {
   "codemirror_mode": {
    "name": "ipython",
    "version": 3
   },
   "file_extension": ".py",
   "mimetype": "text/x-python",
   "name": "python",
   "nbconvert_exporter": "python",
   "pygments_lexer": "ipython3",
   "version": "3.12.3"
  }
 },
 "nbformat": 4,
 "nbformat_minor": 5
}
